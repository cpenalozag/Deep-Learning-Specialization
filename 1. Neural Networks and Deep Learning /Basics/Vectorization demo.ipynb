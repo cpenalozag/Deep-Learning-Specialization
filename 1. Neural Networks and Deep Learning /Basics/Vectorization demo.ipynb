{
 "cells": [
  {
   "cell_type": "code",
   "execution_count": 12,
   "metadata": {
    "collapsed": false
   },
   "outputs": [
    {
     "name": "stdout",
     "output_type": "stream",
     "text": [
      "249818.69005\n",
      "Vectorized: 2.1719932556152344ms\n",
      "\n",
      "249818.69005\n",
      "Non-vectorized: 809.7479343414307ms\n"
     ]
    }
   ],
   "source": [
    "import time\n",
    "\n",
    "a = np.random.rand(1000000)\n",
    "b = np.random.rand(1000000)\n",
    "t1 = time.time()\n",
    "c =np.dot(a,b)\n",
    "t2 = time.time()\n",
    "print(c)\n",
    "print (\"Vectorized: \"+str(1000*(t2-t1))+ \"ms\")\n",
    "print()\n",
    "c = 0\n",
    "t1 = time.time()\n",
    "for i in range (1000000):\n",
    "        c += a[i]*b[i]\n",
    "t2 = time.time()\n",
    "print(c)\n",
    "print (\"Non-vectorized: \"+str(1000*(t2-t1))+ \"ms\")"
   ]
  },
  {
   "cell_type": "code",
   "execution_count": null,
   "metadata": {
    "collapsed": false,
    "scrolled": false
   },
   "outputs": [],
   "source": [
    "import math\n",
    "\n",
    "def sigmoid(x):\n",
    "  return 1 / (1 + math.exp(-x))\n",
    "\n",
    "# Vectorizing Logistic Regression\n",
    "nx = 10\n",
    "m = 1000\n",
    "\n",
    "X = np.random.rand(nx, m) #No. features, no. test examples\n",
    "Y = np.random.rand(1,m)\n",
    "w = np.random.rand(1, m)\n",
    "b = 5\n",
    "\n",
    "Z = np.dot(X,np.transpose(w)) + b\n",
    "print(Z.shape)\n",
    "\n",
    "A = np.transpose(Z)\n",
    "\n",
    "\n",
    "dz = A-Y\n",
    "dw = 1/m*X*np.transpose(dz)\n",
    "db = 1/m*np.sum(dz)"
   ]
  },
  {
   "cell_type": "code",
   "execution_count": null,
   "metadata": {
    "collapsed": true
   },
   "outputs": [],
   "source": []
  }
 ],
 "metadata": {
  "kernelspec": {
   "display_name": "Python 3",
   "language": "python",
   "name": "python3"
  },
  "language_info": {
   "codemirror_mode": {
    "name": "ipython",
    "version": 3
   },
   "file_extension": ".py",
   "mimetype": "text/x-python",
   "name": "python",
   "nbconvert_exporter": "python",
   "pygments_lexer": "ipython3",
   "version": "3.6.0"
  }
 },
 "nbformat": 4,
 "nbformat_minor": 2
}
